import pandas as pd
import numpy as np
import matplotlib.pyplot as plt
import seaborn as sns
import os
import torch
import lightgbm as lgb
import xgboost as xgb
import catboost as cb
from sklearn.model_selection import train_test_split
from sklearn.metrics import mean_absolute_error, mean_squared_error, r2_score
import logging

# Настройка логирования для ноутбука
logging.basicConfig(level=logging.INFO, format='%(asctime)s - %(levelname)s - %(message)s')

# Добавляем корневую директорию проекта в sys.path, если необходимо, чтобы импортировать config
import sys
# sys.path.append('..') # Раскомментируйте, если запускаете ноутбук из поддиректории

# Импортируем параметры из config.py и класс CatBoostModel из boosting.py
try:
    from config import (
        TRAIN_CANDLES_PATH, FINAL_FEATURES_FILENAME, TARGET_COLUMN,
        BOOSTING_MODELS_DIR, CATBOOST_MODEL_PATH, XGBOOST_MODEL_PATH, LIGHTGBM_MODEL_PATH
    )
    from boosting import prepare_boosting_data, CatBoostModel # Импортируем функцию и класс
except ImportError as e:
    logging.error(f"Не удалось импортировать модули: {e}. Убедитесь, что config.py и boosting.py находятся в PYTHONPATH или в той же директории, или скорректируйте sys.path.")
    # Устанавливаем заглушки для путей, чтобы код мог запуститься, но с ошибками
    TRAIN_CANDLES_PATH = 'train_candles.csv'
    FINAL_FEATURES_FILENAME = 'features_news.parquet'
    TARGET_COLUMN = 'target_return_1d'
    BOOSTING_MODELS_DIR = 'models/boosting_models'
    CATBOOST_MODEL_PATH = os.path.join(BOOSTING_MODELS_DIR, 'catboost_model.cbm')
    XGBOOST_MODEL_PATH = os.path.join(BOOSTING_MODELS_DIR, 'xgboost_model.json') # XGBoost 2.x сохраняет в JSON
    LIGHTGBM_MODEL_PATH = os.path.join(BOOSTING_MODELS_DIR, 'lightgbm_model.txt')
    # Определим пустой класс, если импорт CatBoostModel не удался
    class CatBoostModel:
        def __init__(self, params=None): self.model = None
        def load(self, path): logging.error("CatBoostModel не загружен.")
        def predict(self, X): return pd.Series(np.zeros(len(X)), index=X.index)

# Проверка наличия директории для моделей
if not os.path.exists(BOOSTING_MODELS_DIR):
    logging.warning(f"Директория '{BOOSTING_MODELS_DIR}' не найдена. Модели могут быть не сохранены.")

# --- 1. Загрузка и подготовка данных ---
logging.info("--- Запуск проверки моделей ---")
df_data = prepare_boosting_data()

if df_data is None:
    logging.error("Не удалось загрузить или подготовить данные для анализа. Завершение работы.")
else:
    # --- 2. Разделение данных ---
    # Делаем копию, чтобы избежать SettingWithCopyWarning, если понадобится изменить X, y
    df_data_copy = df_data.copy() 
    
    features = [col for col in df_data_copy.columns if col not in ['date', 'ticker', TARGET_COLUMN]]
    X = df_data_copy[features]
    y = df_data_copy[TARGET_COLUMN]
    
    # Дополнительно сохраним 'date' и 'ticker' для валидационной выборки для временного ряда
    X_train_full, X_val_full, y_train, y_val = train_test_split(
        df_data_copy[['date', 'ticker'] + features], y, test_size=0.2, random_state=42, shuffle=False
    )
    
    # Выделяем только признаки для обучения моделей
    X_train = X_train_full[features]
    X_val = X_val_full[features]

    logging.info(f"Размер тренировочной выборки (X_train): {X_train.shape}")
    logging.info(f"Размер валидационной выборки (X_val): {X_val.shape}")
    logging.info(f"Размер тренировочной целевой переменной (y_train): {y_train.shape}")
    logging.info(f"Размер валидационной целевой переменной (y_val): {y_val.shape}")

    # --- 3. Загрузка моделей и 4. Предсказания ---
    models = {}
    predictions = {}
    maes = {}
    mses = {}
    r2s = {}

    # CatBoost
    logging.info("Загрузка и предсказания для CatBoost...")
    try:
        cat_params = {
            'iterations': 1000, 'learning_rate': 0.05, 'depth': 6,
            'loss_function': 'MAE', 'eval_metric': 'MAE', 'random_seed': 42,
            'verbose': 0, 'early_stopping_rounds': 50,
            'task_type': "GPU" if torch.cuda.is_available() else "CPU"
        }
        cat_model_loaded = CatBoostModel(params=cat_params) # Передаем параметры
        cat_model_loaded.load(CATBOOST_MODEL_PATH)
        predictions['CatBoost'] = cat_model_loaded.predict(X_val)
        maes['CatBoost'] = mean_absolute_error(y_val, predictions['CatBoost'])
        mses['CatBoost'] = mean_squared_error(y_val, predictions['CatBoost'])
        r2s['CatBoost'] = r2_score(y_val, predictions['CatBoost'])
        logging.info(f"CatBoost MAE на валидации (загруженная модель): {maes['CatBoost']:.4f}")
    except Exception as e:
        logging.error(f"Не удалось загрузить или использовать CatBoost модель: {e}")
        predictions['CatBoost'] = pd.Series(np.nan, index=y_val.index) # Заполняем nan, чтобы не ломать графики
        maes['CatBoost'] = np.nan
        mses['CatBoost'] = np.nan
        r2s['CatBoost'] = np.nan

    # LightGBM
    logging.info("Загрузка и предсказания для LightGBM...")
    try:
        lgbm_model_loaded = lgb.Booster(model_file=LIGHTGBM_MODEL_PATH)
        predictions['LightGBM'] = lgbm_model_loaded.predict(X_val)
        maes['LightGBM'] = mean_absolute_error(y_val, predictions['LightGBM'])
        mses['LightGBM'] = mean_squared_error(y_val, predictions['LightGBM'])
        r2s['LightGBM'] = r2_score(y_val, predictions['LightGBM'])
        logging.info(f"LightGBM MAE на валидации (загруженная модель): {maes['LightGBM']:.4f}")
    except Exception as e:
        logging.error(f"Не удалось загрузить или использовать LightGBM модель: {e}")
        predictions['LightGBM'] = pd.Series(np.nan, index=y_val.index)
        maes['LightGBM'] = np.nan
        mses['LightGBM'] = np.nan
        r2s['LightGBM'] = np.nan

    # XGBoost
    logging.info("Загрузка и предсказания для XGBoost...")
    try:
        xgb_model_loaded = xgb.XGBRegressor()
        xgb_model_loaded.load_model(XGBOOST_MODEL_PATH)
        predictions['XGBoost'] = xgb_model_loaded.predict(X_val)
        maes['XGBoost'] = mean_absolute_error(y_val, predictions['XGBoost'])
        mses['XGBoost'] = mean_squared_error(y_val, predictions['XGBoost'])
        r2s['XGBoost'] = r2_score(y_val, predictions['XGBoost'])
        logging.info(f"XGBoost MAE на валидации (загруженная модель): {maes['XGBoost']:.4f}")
    except Exception as e:
        logging.error(f"Не удалось загрузить или использовать XGBoost модель: {e}")
        predictions['XGBoost'] = pd.Series(np.nan, index=y_val.index)
        maes['XGBoost'] = np.nan
        mses['XGBoost'] = np.nan
        r2s['XGBoost'] = np.nan

    logging.info("--- Расчеты завершены, приступаем к визуализации ---")

    # --- Сводная таблица метрик ---
    metrics_data = {
        'MAE': [maes.get(model, np.nan) for model in predictions.keys()],
        'MSE': [mses.get(model, np.nan) for model in predictions.keys()],
        'R2 Score': [r2s.get(model, np.nan) for model in predictions.keys()]
    }
    df_metrics = pd.DataFrame(metrics_data, index=predictions.keys())
    logging.info("\n--- Сводная таблица метрик ---")
    logging.info(df_metrics.round(4))
    logging.info("-" * 50)

    # Объединяем истинные значения и предсказания для удобства
    plot_df = pd.DataFrame({'True_Values': y_val})
    for model_name, preds in predictions.items():
        plot_df[model_name] = preds
    
    # Рассчитываем ошибки
    residuals_df = pd.DataFrame({'True_Values': y_val})
    for model_name, preds in predictions.items():
        residuals_df[f'Residuals_{model_name}'] = y_val - preds

    # --- Графики ---

    # 1. Распределение истинных и предсказанных значений (улучшенные гистограммы)
    plt.figure(figsize=(18, 6))
    for i, model_name in enumerate(predictions.keys()):
        plt.subplot(1, len(predictions), i + 1)
        sns.histplot(plot_df['True_Values'], color='blue', label='Истинные значения', kde=True, stat="density", alpha=0.6)
        sns.histplot(plot_df[model_name], color='red', label=f'Предсказания {model_name}', kde=True, stat="density", alpha=0.6)
        plt.title(f'Распределение: {model_name}\nMAE: {maes.get(model_name, np.nan):.4f}', fontsize=12)
        plt.xlabel(TARGET_COLUMN, fontsize=10)
        plt.ylabel('Плотность', fontsize=10)
        plt.legend()
    plt.tight_layout()
    plt.suptitle('Распределение истинных и предсказанных значений', y=1.02, fontsize=16)
    plt.show()
    logging.info("Построен график 'Распределение истинных и предсказанных значений'")

    # 2. Диаграмма рассеяния (Scatter Plot) с линией регрессии и R²
    plt.figure(figsize=(18, 6))
    for i, model_name in enumerate(predictions.keys()):
        plt.subplot(1, len(predictions), i + 1)
        sns.regplot(x=plot_df['True_Values'], y=plot_df[model_name], scatter_kws={'alpha':0.3, 's':10}, line_kws={'color':'red'})
        min_val = min(plot_df['True_Values'].min(), plot_df[model_name].min())
        max_val = max(plot_df['True_Values'].max(), plot_df[model_name].max())
        plt.plot([min_val, max_val], [min_val, max_val], color='grey', linestyle='--', label='Идеальное предсказание')
        plt.title(f'Диаграмма рассеяния: {model_name}\nMAE: {maes.get(model_name, np.nan):.4f}, R²: {r2s.get(model_name, np.nan):.4f}', fontsize=12)
        plt.xlabel('Истинные значения', fontsize=10)
        plt.ylabel('Предсказанные значения', fontsize=10)
        plt.legend()
        plt.grid(True, linestyle='--', alpha=0.6)
    plt.tight_layout()
    plt.suptitle('Диаграммы рассеяния истинных vs. предсказанных значений', y=1.02, fontsize=16)
    plt.show()
    logging.info("Построен график 'Диаграммы рассеяния истинных vs. предсказанных значений'")

    # 3. График ошибок (Residuals Plot) - предсказанные vs. ошибки
    plt.figure(figsize=(18, 6))
    for i, model_name in enumerate(predictions.keys()):
        plt.subplot(1, len(predictions), i + 1)
        sns.scatterplot(x=plot_df[model_name], y=residuals_df[f'Residuals_{model_name}'], alpha=0.3, s=10)
        plt.axhline(y=0, color='red', linestyle='--', label='Нулевая ошибка')
        plt.title(f'График ошибок: {model_name}', fontsize=12)
        plt.xlabel('Предсказанные значения', fontsize=10)
        plt.ylabel('Ошибки (Истинные - Предсказанные)', fontsize=10)
        plt.legend()
        plt.grid(True, linestyle='--', alpha=0.6)
    plt.tight_layout()
    plt.suptitle('Графики ошибок (Residuals Plots)', y=1.02, fontsize=16)
    plt.show()
    logging.info("Построен график 'Графики ошибок (Residuals Plots)'")

    # 4. Коробчатые диаграммы ошибок (Box Plot of Residuals)
    plt.figure(figsize=(10, 6))
    sns.boxplot(data=residuals_df.drop(columns=['True_Values']), orient='v', palette='viridis')
    plt.title('Распределение ошибок по моделям', fontsize=14)
    plt.ylabel('Ошибки', fontsize=10)
    plt.grid(True, linestyle='--', alpha=0.6)
    plt.tight_layout()
    plt.show()
    logging.info("Построен график 'Распределение ошибок по моделям'")

    # 5. Гистограммы ошибок (Histogram of Residuals)
    plt.figure(figsize=(18, 6))
    for i, model_name in enumerate(predictions.keys()):
        plt.subplot(1, len(predictions), i + 1)
        sns.histplot(residuals_df[f'Residuals_{model_name}'], kde=True, bins=50, color='purple', stat="density")
        plt.axvline(x=0, color='red', linestyle='--', label='Нулевая ошибка')
        plt.title(f'Гистограмма ошибок: {model_name}', fontsize=12)
        plt.xlabel('Ошибки', fontsize=10)
        plt.ylabel('Плотность', fontsize=10)
        plt.legend()
        plt.grid(True, linestyle='--', alpha=0.6)
    plt.tight_layout()
    plt.suptitle('Гистограммы распределения ошибок', y=1.02, fontsize=16)
    plt.show()
    logging.info("Построен график 'Гистограммы распределения ошибок'")

    # 6. Временной ряд предсказаний (для нескольких случайных тикеров)
    df_val_with_preds = X_val_full.copy()
    df_val_with_preds['True_Values'] = y_val
    for model_name, preds in predictions.items():
        df_val_with_preds[f'Pred_{model_name}'] = preds # Исправлено: без .values

    df_val_with_preds['date'] = pd.to_datetime(df_val_with_preds['date'])
    df_val_with_preds = df_val_with_preds.sort_values(by=['date', 'ticker'])
    
    num_sample_tickers = 3
    if len(df_val_with_preds['ticker'].unique()) < num_sample_tickers:
        sample_tickers = df_val_with_preds['ticker'].unique()
        logging.warning(f"Меньше {num_sample_tickers} уникальных тикеров. Будут показаны все доступные: {len(sample_tickers)}")
    else:
        sample_tickers = df_val_with_preds['ticker'].sample(n=num_sample_tickers, random_state=42).unique()

    plt.figure(figsize=(18, 6 * len(sample_tickers)))
    for i, ticker in enumerate(sample_tickers):
        ticker_data = df_val_with_preds[df_val_with_preds['ticker'] == ticker].set_index('date')
        
        plt.subplot(len(sample_tickers), 1, i + 1)
        plt.plot(ticker_data.index, ticker_data['True_Values'], label='Истинные значения', color='black', alpha=0.7)
        for model_name in predictions.keys():
            plt.plot(ticker_data.index, ticker_data[f'Pred_{model_name}'], label=f'Предсказания {model_name}', linestyle='--')
        
        plt.title(f'Временной ряд предсказаний для тикера: {ticker}', fontsize=12)
        plt.xlabel('Дата', fontsize=10)
        plt.ylabel(TARGET_COLUMN, fontsize=10)
        plt.legend()
        plt.grid(True, linestyle='--', alpha=0.6)
        plt.xticks(rotation=45)
    plt.tight_layout()
    plt.suptitle('Временные ряды истинных и предсказанных значений для случайных тикеров', y=1.005, fontsize=16)
    plt.show()
    logging.info("Построен график 'Временные ряды истинных и предсказанных значений для случайных тикеров'")


    # 7. Временной ряд ошибок (для нескольких случайных тикеров)
    df_val_with_errors = X_val_full.copy()
    df_val_with_errors['True_Values'] = y_val # Истинные значения
    for model_name, preds in predictions.items():
        df_val_with_errors[f'Residuals_{model_name}'] = y_val - preds # Ошибки

    df_val_with_errors['date'] = pd.to_datetime(df_val_with_errors['date'])
    df_val_with_errors = df_val_with_errors.sort_values(by=['date', 'ticker'])

    plt.figure(figsize=(18, 6 * len(sample_tickers)))
    for i, ticker in enumerate(sample_tickers):
        ticker_data = df_val_with_errors[df_val_with_errors['ticker'] == ticker].set_index('date')
        
        plt.subplot(len(sample_tickers), 1, i + 1)
        plt.axhline(y=0, color='grey', linestyle='--', alpha=0.7)
        for model_name in predictions.keys():
            plt.plot(ticker_data.index, ticker_data[f'Residuals_{model_name}'], label=f'Ошибки {model_name}', alpha=0.7)
        
        plt.title(f'Временной ряд ошибок для тикера: {ticker}', fontsize=12)
        plt.xlabel('Дата', fontsize=10)
        plt.ylabel('Ошибки', fontsize=10)
        plt.legend()
        plt.grid(True, linestyle='--', alpha=0.6)
        plt.xticks(rotation=45)
    plt.tight_layout()
    plt.suptitle('Временные ряды ошибок для случайных тикеров', y=1.005, fontsize=16)
    plt.show()
    logging.info("Построен график 'Временные ряды ошибок для случайных тикеров'")


    # 8. График кумулятивной абсолютной ошибки (Cumulative Absolute Error)
    # Сначала сгруппируем ошибки по дате
    cumulative_errors_data = []
    for model_name in predictions.keys():
        temp_df = df_val_with_errors.copy()
        temp_df['Absolute_Residual'] = temp_df[f'Residuals_{model_name}'].abs()
        cumulative_errors_data.append(temp_df.groupby('date')['Absolute_Residual'].sum().rename(model_name))
    
    df_cumulative_errors = pd.concat(cumulative_errors_data, axis=1)
    df_cumulative_errors = df_cumulative_errors.cumsum()
    df_cumulative_errors.index = pd.to_datetime(df_cumulative_errors.index)
    df_cumulative_errors = df_cumulative_errors.sort_index()

    plt.figure(figsize=(14, 7))
    for model_name in predictions.keys():
        plt.plot(df_cumulative_errors.index, df_cumulative_errors[model_name], label=model_name)
    plt.title('Кумулятивная абсолютная ошибка по времени', fontsize=14)
    plt.xlabel('Дата', fontsize=10)
    plt.ylabel('Кумулятивная абсолютная ошибка', fontsize=10)
    plt.legend()
    plt.grid(True, linestyle='--', alpha=0.6)
    plt.xticks(rotation=45)
    plt.tight_layout()
    plt.show()
    logging.info("Построен график 'Кумулятивная абсолютная ошибка по времени'")


    logging.info("--- Проверка моделей завершена ---")
